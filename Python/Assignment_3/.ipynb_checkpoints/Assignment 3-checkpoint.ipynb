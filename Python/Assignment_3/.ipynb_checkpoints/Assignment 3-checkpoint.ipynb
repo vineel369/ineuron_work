{
 "cells": [
  {
   "cell_type": "markdown",
   "metadata": {},
   "source": [
    "## Task 1\n",
    " \n",
    "**1. Write a function to compute 5/0 and use try/except to catch the exceptions.**"
   ]
  },
  {
   "cell_type": "code",
   "execution_count": 1,
   "metadata": {},
   "outputs": [],
   "source": [
    "def div():\n",
    "#     num = int(input(\"Enter an integer : \"))\n",
    "    return 5/0"
   ]
  },
  {
   "cell_type": "code",
   "execution_count": 2,
   "metadata": {},
   "outputs": [
    {
     "name": "stdout",
     "output_type": "stream",
     "text": [
      "division by zero\n"
     ]
    }
   ],
   "source": [
    "try:\n",
    "    div()\n",
    "\n",
    "except ValueError:\n",
    "    print(\"You can't divide a number with zero\")\n",
    "except OSError:\n",
    "    print(\"You can't divide a number with zero\")\n",
    "except Exception as e:\n",
    "    print(e)\n",
    "except:\n",
    "    print(\"A number can't be divide with zero\")"
   ]
  },
  {
   "cell_type": "markdown",
   "metadata": {},
   "source": [
    "**2. Implement a Python program to generate all sentences where subject is in [\"Americans\", \"Indians\"] and verb is in [\"Play\", \"watch\"] and the object is in [\"Baseball\",\"cricket\"].** \n",
    " \n",
    "Hint: Subject,Verb and Object should be declared in the program as shown below. \n",
    " \n",
    "- subjects=[\"Americans \",\"Indians\"] \n",
    "- verbs=[\"play\",\"watch\"] \n",
    "- objects=[\"Baseball\",\"Cricket\"] \n",
    "\n",
    "**<u>Output should come as below:</u>** \n",
    " \n",
    "- Americans  play Baseball. \n",
    "- Americans  play Cricket. \n",
    "- Americans  watch Baseball. \n",
    "- Americans  watch Cricket. \n",
    "- Indians play Baseball. \n",
    "- Indians play Cricket. \n",
    "- Indians watch Baseball. \n",
    "- Indians watch Cricket. "
   ]
  },
  {
   "cell_type": "code",
   "execution_count": 3,
   "metadata": {},
   "outputs": [],
   "source": [
    "def sentence_generate(subjects,verbs,objects):\n",
    "    sentences = [sub+' '+verb+' '+objec+'.' for sub in subjects for verb in verbs for objec in objects]\n",
    "    return sentences"
   ]
  },
  {
   "cell_type": "code",
   "execution_count": 4,
   "metadata": {},
   "outputs": [
    {
     "name": "stdout",
     "output_type": "stream",
     "text": [
      "Americans play Baseball.\n",
      "Americans play Cricket.\n",
      "Americans watch Baseball.\n",
      "Americans watch Cricket.\n",
      "Indians play Baseball.\n",
      "Indians play Cricket.\n",
      "Indians watch Baseball.\n",
      "Indians watch Cricket.\n"
     ]
    }
   ],
   "source": [
    "subjects=[\"Americans\",\"Indians\"]\n",
    "verbs=[\"play\",\"watch\"]\n",
    "objects=[\"Baseball\",\"Cricket\"]\n",
    "\n",
    "for sentence in sentence_generate(subjects,verbs,objects):\n",
    "    print(sentence)"
   ]
  },
  {
   "cell_type": "markdown",
   "metadata": {},
   "source": [
    "## Task 2  \n",
    " \n",
    "**1.Write a function so that the columns of the output matrix are powers of the input vector.** \n",
    "\n",
    "The order of the powers is determined by the increasing boolean argument. Specifically, when increasing is False, the i-th output column is the input vector raised element-wise to the power of N - i - 1.  \n",
    " \n",
    "HINT: Such a matrix with a geometric progression in each row is named for Alexandre Theophile Vandermonde. "
   ]
  },
  {
   "cell_type": "markdown",
   "metadata": {},
   "source": [
    "References : \n",
    "1. https://www.wikiwand.com/en/Vandermonde_matrix\n",
    "2. https://het.as.utexas.edu/HET/Software/Numpy/reference/generated/numpy.ma.vander.html"
   ]
  },
  {
   "cell_type": "code",
   "execution_count": 5,
   "metadata": {},
   "outputs": [],
   "source": [
    "import numpy as np"
   ]
  },
  {
   "cell_type": "code",
   "execution_count": 6,
   "metadata": {},
   "outputs": [],
   "source": [
    "def Vandermonde_gen(input_vector, n = 3, increasing = False):\n",
    "    if increasing == False:\n",
    "        vandermonde_matrix = np.array([elem**(n-i-1) for elem in input_vector for i in range(n)]).reshape(len(input_vector),n)\n",
    "    else:\n",
    "        vandermonde_matrix = np.array([elem**i for elem in input_vector for i in range(n)]).reshape(len(input_vector),n)\n",
    "    return vandermonde_matrix"
   ]
  },
  {
   "cell_type": "code",
   "execution_count": 7,
   "metadata": {},
   "outputs": [
    {
     "data": {
      "text/plain": [
       "array([[    1,     1,     1,     1],\n",
       "       [ 1000,   100,    10,     1],\n",
       "       [ 8000,   400,    20,     1],\n",
       "       [27000,   900,    30,     1]])"
      ]
     },
     "execution_count": 7,
     "metadata": {},
     "output_type": "execute_result"
    }
   ],
   "source": [
    "input_list = [1,10,20,30]\n",
    "Vandermonde_gen(input_list, 4,increasing = False ) "
   ]
  },
  {
   "cell_type": "code",
   "execution_count": 8,
   "metadata": {},
   "outputs": [
    {
     "data": {
      "text/plain": [
       "array([[    1,     1,     1,     1],\n",
       "       [    1,    10,   100,  1000],\n",
       "       [    1,    20,   400,  8000],\n",
       "       [    1,    30,   900, 27000]])"
      ]
     },
     "execution_count": 8,
     "metadata": {},
     "output_type": "execute_result"
    }
   ],
   "source": [
    "input_list = [1,10,20,30]\n",
    "Vandermonde_gen(input_list, 4,increasing = True ) "
   ]
  },
  {
   "cell_type": "code",
   "execution_count": null,
   "metadata": {},
   "outputs": [],
   "source": []
  }
 ],
 "metadata": {
  "kernelspec": {
   "display_name": "Python 3",
   "language": "python",
   "name": "python3"
  },
  "language_info": {
   "codemirror_mode": {
    "name": "ipython",
    "version": 3
   },
   "file_extension": ".py",
   "mimetype": "text/x-python",
   "name": "python",
   "nbconvert_exporter": "python",
   "pygments_lexer": "ipython3",
   "version": "3.7.4"
  }
 },
 "nbformat": 4,
 "nbformat_minor": 2
}
