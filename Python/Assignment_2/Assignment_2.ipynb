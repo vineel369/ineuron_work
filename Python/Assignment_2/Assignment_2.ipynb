{
 "cells": [
  {
   "cell_type": "markdown",
   "metadata": {},
   "source": [
    "## Task 1:   \n",
    " \n",
    "**1.1  Write a Python Program to implement your own myreduce() function which works exactly like Python's built-in function ``reduce()``** "
   ]
  },
  {
   "cell_type": "code",
   "execution_count": 1,
   "metadata": {},
   "outputs": [
    {
     "name": "stdout",
     "output_type": "stream",
     "text": [
      "445\n"
     ]
    }
   ],
   "source": [
    "from functools import reduce\n",
    "\n",
    "l = [50,75,90,100,120,10]\n",
    "reduce_built = reduce(lambda x,y : x+y,l)\n",
    "print(reduce_built)\n",
    "    "
   ]
  },
  {
   "cell_type": "code",
   "execution_count": 2,
   "metadata": {},
   "outputs": [],
   "source": [
    "def myreduce(lst):\n",
    "    sum = lst[0]\n",
    "    print(\"Sequence of reduce operation of given list elements : \\n\")\n",
    "    for i in range(1,len(lst)):\n",
    "        sum1 = sum + lst[i]\n",
    "        print(f\"{sum} + {lst[i]} : {sum1}\")\n",
    "        sum = sum1\n",
    "    return print(f'\\nFinal result : {sum}')"
   ]
  },
  {
   "cell_type": "code",
   "execution_count": 3,
   "metadata": {},
   "outputs": [
    {
     "name": "stdout",
     "output_type": "stream",
     "text": [
      "Sequence of reduce operation of given list elements : \n",
      "\n",
      "50 + 75 : 125\n",
      "125 + 90 : 215\n",
      "215 + 100 : 315\n",
      "315 + 120 : 435\n",
      "435 + 10 : 445\n",
      "\n",
      "Final result : 445\n"
     ]
    }
   ],
   "source": [
    "myreduce(l)"
   ]
  },
  {
   "cell_type": "markdown",
   "metadata": {},
   "source": [
    "**1.2  Write a Python program to implement your own ``myfilter()`` function which works exactly like Python's built-in function ``filter()``**  "
   ]
  },
  {
   "cell_type": "code",
   "execution_count": 4,
   "metadata": {},
   "outputs": [
    {
     "name": "stdout",
     "output_type": "stream",
     "text": [
      "The filtered letters are:\n",
      "a\n",
      "u\n"
     ]
    }
   ],
   "source": [
    "# function that filters vowels \n",
    "def fun(variable): \n",
    "    if (variable in ['a', 'e', 'i', 'o', 'u']): \n",
    "        return True\n",
    "    else: \n",
    "        return False\n",
    "\n",
    "letters = ['a', 'd', 'b', 'u', 'y', 'z'] \n",
    "  \n",
    "# using filter function \n",
    "filtered = filter(fun, letters) \n",
    "  \n",
    "print('The filtered letters are:') \n",
    "for s in filtered: \n",
    "    print(s) "
   ]
  },
  {
   "cell_type": "code",
   "execution_count": 5,
   "metadata": {},
   "outputs": [
    {
     "name": "stdout",
     "output_type": "stream",
     "text": [
      "The filtered letters are :\n",
      "a\n",
      "u\n"
     ]
    }
   ],
   "source": [
    "def myfilter(sequence):\n",
    "    i = 0\n",
    "#     for i in range(len(sequence)):\n",
    "    while i < len(sequence):\n",
    "        if sequence[i] in ['a','i','e','o','u']:\n",
    "            print(sequence[i])\n",
    "        i+=1\n",
    "\n",
    "print('The filtered letters are :')\n",
    "myfilter(letters)"
   ]
  },
  {
   "cell_type": "markdown",
   "metadata": {},
   "source": [
    "**2. Implement List comprehensions to produce the following lists.** \n",
    " \n",
    "<u>Write List comprehensions to produce the following Lists</u> \n",
    " \n",
    "- ['A', 'C', 'A', 'D', 'G', 'I', ’L’, ‘ D’] \n",
    " \n",
    "- ['x', 'xx', 'xxx', 'xxxx', 'y', 'yy', 'yyy', 'yyyy', 'z', 'zz', 'zzz', 'zzzz'] \n",
    " \n",
    "- ['x', 'y', 'z', 'xx', 'yy', 'zz', 'xx', 'yy', 'zz', 'xxxx', 'yyyy', 'zzzz'] \n",
    "\n",
    "- [[2], [3], [4], [3], [4], [5], [4], [5], [6]] \n",
    " \n",
    "- [[2, 3, 4, 5], [3, 4, 5, 6], [4, 5, 6, 7], [5, 6, 7, 8]] \n",
    " \n",
    "- [(1, 1), (2, 1), (3, 1), (1, 2), (2, 2), (3, 2), (1, 3), (2, 3), (3, 3)] "
   ]
  },
  {
   "cell_type": "code",
   "execution_count": 6,
   "metadata": {},
   "outputs": [
    {
     "name": "stdout",
     "output_type": "stream",
     "text": [
      "lc_1 :  ['A', 'C', 'A', 'D', 'G', 'I', 'L', 'D']\n",
      "lc_2 :  ['x', 'xx', 'xxx', 'xxxx', 'y', 'yy', 'yyy', 'yyyy', 'z', 'zz', 'zzz', 'zzzz']\n",
      "lc_3 :  ['x', 'y', 'z', 'xx', 'yy', 'zz', 'xxx', 'yyy', 'zzz', 'xxxx', 'yyyy', 'zzzz']\n",
      "lc_4 :  [[2], [3], [4], [5], [6]]\n",
      "lc_5 :  [[2, 3, 4, 5], [3, 4, 5, 6], [4, 5, 6, 7], [5, 6, 7, 8]]\n",
      "lc_6 :  [(1, 1), (2, 1), (3, 1), (1, 2), (2, 2), (3, 2), (1, 3), (2, 3), (3, 3)]\n"
     ]
    }
   ],
   "source": [
    "#['A', 'C', 'A', 'D', 'G', 'I', ’L’, ‘ D’] \n",
    "input_strg = 'ACADGILD'\n",
    "lc_1 = [i for i in input_strg ]\n",
    "print('lc_1 : ',str(lc_1))\n",
    "\n",
    "#['x', 'xx', 'xxx', 'xxxx', 'y', 'yy', 'yyy', 'yyyy', 'z', 'zz', 'zzz', 'zzzz']\n",
    "input_strg = 'xyz'\n",
    "lc_2 = [i*j for i in input_strg for j in range(1,5)]\n",
    "print('lc_2 : ',str(lc_2))\n",
    "\n",
    "#['x', 'y', 'z', 'xx', 'yy', 'zz', 'xx', 'yy', 'zz', 'xxxx', 'yyyy', 'zzzz']\n",
    "input_strg = 'xyz'\n",
    "lc_3 = [ num*char for num in range(1,5) for char in input_strg]\n",
    "print('lc_3 : ',str(lc_3))\n",
    "        \n",
    "# [[2], [3], [4], [3], [4], [5], [4], [5], [6]]\n",
    "\n",
    "lc_4 = [ [i] for i in range(2,7)]\n",
    "print('lc_4 : ',str(lc_4))\n",
    "\n",
    "#[[2, 3, 4, 5], [3, 4, 5, 6], [4, 5, 6, 7], [5, 6, 7, 8]]\n",
    "\n",
    "input_lst = [2,3,4,5]\n",
    "lc_5 = [list(range(i,i+4)) for i in input_lst ]\n",
    "print('lc_5 : ',str(lc_5))\n",
    "\n",
    "#[(1, 1), (2, 1), (3, 1), (1, 2), (2, 2), (3, 2), (1, 3), (2, 3), (3, 3)]\n",
    "\n",
    "input_lst = [1,2,3]\n",
    "lc_6 = [(j,i) for i in input_lst for j in input_lst]\n",
    "print('lc_6 : ',str(lc_6))"
   ]
  },
  {
   "cell_type": "markdown",
   "metadata": {},
   "source": [
    "**3. Implement a function longestWord() that takes a list of words and returns the longest one.**"
   ]
  },
  {
   "cell_type": "code",
   "execution_count": 7,
   "metadata": {},
   "outputs": [
    {
     "name": "stdout",
     "output_type": "stream",
     "text": [
      "Longest word from the given words list is TensorFlow & it's length is 10\n"
     ]
    }
   ],
   "source": [
    "def longestWord(list_of_words):\n",
    "    max_len = 0\n",
    "    longest = ''\n",
    "    for i in list_of_words:\n",
    "        if max_len < len(i):\n",
    "            max_len = len(i)\n",
    "            longest = i\n",
    "    return print(f\"Longest word from the given words list is {longest} & it's length is {max_len}\")\n",
    "\n",
    "words = ['vineel','python','one','hundred','learning','TensorFlow','Pytorch']\n",
    "longestWord(words)"
   ]
  },
  {
   "cell_type": "markdown",
   "metadata": {},
   "source": [
    "## Task 2\n",
    "\n",
    "**1.1  Write a Python Program(with class concepts) to find the area of the triangle using the below formula.** \n",
    " \n",
    "**``area = (s*(s-a)*(s-b)*(s-c)) ** 0.5``** \n",
    " \n",
    "Function to take the length of the sides of triangle from user should be defined in the parent class and function to calculate the area should be defined in subclass. "
   ]
  },
  {
   "cell_type": "code",
   "execution_count": 8,
   "metadata": {},
   "outputs": [
    {
     "name": "stdout",
     "output_type": "stream",
     "text": [
      "Area_of_triangle with sides 36,20,50 : 298.662016332844 sq.units\n"
     ]
    }
   ],
   "source": [
    "# with simple class & method usage\n",
    "class area_of_triangle(object):\n",
    "    def __init__(self,a,b,c):\n",
    "        self.a = a\n",
    "        self.b = b\n",
    "        self.c = c\n",
    "    def area(self):\n",
    "        s = (self.a+self.b+self.c)/2\n",
    "        area = (s*(s-self.a)*(s-self.b)*(s-self.c)) ** 0.5\n",
    "        print(f'Area_of_triangle with sides {self.a},{self.b},{self.c} : {area} sq.units')\n",
    "\n",
    "triangle_1 = area_of_triangle(36,20,50)\n",
    "triangle_1.area()"
   ]
  },
  {
   "cell_type": "code",
   "execution_count": 9,
   "metadata": {},
   "outputs": [
    {
     "name": "stdout",
     "output_type": "stream",
     "text": [
      "Area_of_triangle with sides 36,20,50 : 298.662016332844 sq.units\n"
     ]
    }
   ],
   "source": [
    "#with class & inheritance usage\n",
    "class triangle_def(object):\n",
    "    def __init__(self,a,b,c):\n",
    "        self.a = a\n",
    "        self.b = b\n",
    "        self.c = c\n",
    "class area_calc(triangle_def):\n",
    "    def __init__(self,*args):\n",
    "        triangle_def.__init__(self,*args)\n",
    "    def area(self):\n",
    "        s = (self.a+self.b+self.c)/2\n",
    "        area = (s*(s-self.a)*(s-self.b)*(s-self.c)) ** 0.5\n",
    "        print(f'Area_of_triangle with sides {self.a},{self.b},{self.c} : {area} sq.units')\n",
    "\n",
    "\n",
    "triangle_2 = area_calc(36,20,50)\n",
    "triangle_2.area()"
   ]
  },
  {
   "cell_type": "markdown",
   "metadata": {},
   "source": [
    "**1.2  Write a function ``filter_long_words()`` that takes a list of words and an integer n and returns the list of words that are longer than n.** "
   ]
  },
  {
   "cell_type": "code",
   "execution_count": 10,
   "metadata": {},
   "outputs": [
    {
     "name": "stdout",
     "output_type": "stream",
     "text": [
      "List of words that are greater than 7 characters are\n"
     ]
    },
    {
     "data": {
      "text/plain": [
       "['learning', 'TensorFlow']"
      ]
     },
     "execution_count": 10,
     "metadata": {},
     "output_type": "execute_result"
    }
   ],
   "source": [
    "def filter_long_words(list_of_words, max_word_length = None):\n",
    "    filter_words = [word for word in list_of_words if max_word_length < len(word)]\n",
    "#     for i in list_of_words:\n",
    "#         if max_word_length < len(i):\n",
    "#             filter_words.append(i)\n",
    "    print(f\"List of words that are greater than {max_word_length} characters are\")\n",
    "    return filter_words\n",
    "    \n",
    "words = ['vineel','python','one','hundred','Machine','learning','TensorFlow','Pytorch']\n",
    "filter_long_words(words , 7)"
   ]
  },
  {
   "cell_type": "markdown",
   "metadata": {},
   "source": [
    "**2.1 Write a Python program using function concept that maps  list of words into a list of integers representing the lengths of the corresponding words.** \n",
    "\n",
    " <u>Hint:</u> If a list [ ab,cde,erty] is passed on to the python function output should come as [2,3,4]\n",
    " \n",
    " Here 2,3 and 4 are the lengths of the words in the list. "
   ]
  },
  {
   "cell_type": "code",
   "execution_count": 11,
   "metadata": {},
   "outputs": [
    {
     "name": "stdout",
     "output_type": "stream",
     "text": [
      "List of length of given words list\n"
     ]
    },
    {
     "data": {
      "text/plain": [
       "[6, 6, 3, 7, 8, 10, 7]"
      ]
     },
     "execution_count": 11,
     "metadata": {},
     "output_type": "execute_result"
    }
   ],
   "source": [
    "def words_to_int(words_list):\n",
    "    words_length = [len(word) for word in words_list]\n",
    "    print(\"List of length of given words list\")\n",
    "    return words_length\n",
    "\n",
    "words = ['vineel','python','one','hundred','learning','TensorFlow','Pytorch']\n",
    "words_to_int(words)\n"
   ]
  },
  {
   "cell_type": "markdown",
   "metadata": {},
   "source": [
    "**2.2 Write a Python function which takes a character (i.e. a string of length 1) and returns True if it is a vowel, False otherwise.** "
   ]
  },
  {
   "cell_type": "code",
   "execution_count": 12,
   "metadata": {},
   "outputs": [
    {
     "data": {
      "text/plain": [
       "False"
      ]
     },
     "execution_count": 12,
     "metadata": {},
     "output_type": "execute_result"
    }
   ],
   "source": [
    "def vowel_test(char):\n",
    "    if char in ['a','i','e','o','u']:\n",
    "        return True\n",
    "    else:\n",
    "        return False\n",
    "\n",
    "vowel_test('c')"
   ]
  }
 ],
 "metadata": {
  "kernelspec": {
   "display_name": "Python 3",
   "language": "python",
   "name": "python3"
  },
  "language_info": {
   "codemirror_mode": {
    "name": "ipython",
    "version": 3
   },
   "file_extension": ".py",
   "mimetype": "text/x-python",
   "name": "python",
   "nbconvert_exporter": "python",
   "pygments_lexer": "ipython3",
   "version": "3.7.4"
  }
 },
 "nbformat": 4,
 "nbformat_minor": 2
}
